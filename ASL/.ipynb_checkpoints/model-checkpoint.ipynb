{
 "cells": [
  {
   "cell_type": "code",
   "execution_count": 16,
   "id": "a284eb43-5999-4492-a7b3-3725c10559a8",
   "metadata": {},
   "outputs": [],
   "source": [
    "import tensorflow\n",
    "import mediapipe as mp\n",
    "import cv2\n",
    "import numpy as np\n",
    "import sklearn\n",
    "import matplotlib\n",
    "import os\n",
    "import sys"
   ]
  },
  {
   "cell_type": "code",
   "execution_count": 3,
   "id": "ee216d6f-8e77-40c3-88a2-6eb9b07eca82",
   "metadata": {},
   "outputs": [],
   "source": [
    "# Initialize mediapipe elements: Drawing utils & Hand model\n",
    "mp_hands = mp.solutions.hands\n",
    "mp_drawing = mp.solutions.drawing_utils"
   ]
  },
  {
   "cell_type": "markdown",
   "id": "46cefed3-99c1-40d5-9138-c78fd110a7ad",
   "metadata": {},
   "source": [
    "## Landmarks Detection Function"
   ]
  },
  {
   "cell_type": "code",
   "execution_count": 4,
   "id": "6a149fe3-fb87-4e91-a90b-ce788f267d15",
   "metadata": {},
   "outputs": [],
   "source": [
    "# Mediapipe Hands Detection\n",
    "\n",
    "def hand_detection(image, model):\n",
    "    image = cv2.cvtColor(image, cv2.COLOR_BGR2RGB)    # By default opencv uses BGR\n",
    "    image.flags.writeable = False\n",
    "\n",
    "    results = model.process(image)    # Extract the landmarks using mp model\n",
    "    image.flags.writeable = True\n",
    "    image = cv2.cvtColor(image, cv2.COLOR_RGB2BGR)    # Convert to opencv compatible color space\n",
    "    return image, results"
   ]
  },
  {
   "cell_type": "code",
   "execution_count": 5,
   "id": "f50faf6c-8982-4e81-8e9d-d3634197ddc9",
   "metadata": {},
   "outputs": [],
   "source": [
    "def draw_landmarks(image, result):\n",
    "    if results.multi_hand_landmarks:    # If landmarks are recognized\n",
    "            for num, hand in enumerate(results.multi_hand_landmarks):    # For every landmark point\n",
    "                mp_drawing.draw_landmarks(image, hand, mp_hands.HAND_CONNECTIONS)    # Draw the corresponding joint and connection"
   ]
  },
  {
   "cell_type": "code",
   "execution_count": 18,
   "id": "538a3be7-2526-4204-84ff-cb00c05c1461",
   "metadata": {},
   "outputs": [],
   "source": [
    "cap = cv2.VideoCapture(0)\n",
    "\n",
    "# Using the mediapipe hands model\n",
    "with mp_hands.Hands(min_detection_confidence=0.8, min_tracking_confidence=0.5, max_num_hands=1) as hands:\n",
    "    while cap.isOpened():\n",
    "        ret, frame = cap.read() # Get a frame from webcam stram\n",
    "\n",
    "        # Detections\n",
    "        image, results = hand_detection(frame, hands)\n",
    "        \n",
    "        # Draw Landmarks\n",
    "        draw_landmarks(image, results)\n",
    "\n",
    "        cv2.imshow('Hand Tracking', image)    # Frame after applying the mediapipe drawings\n",
    "        \n",
    "        if cv2.waitKey(10) & 0xFF == ord('q'):\n",
    "            break\n",
    "\n",
    "cap.release()\n",
    "cv2.destroyAllWindows()"
   ]
  },
  {
   "cell_type": "markdown",
   "id": "1e19b265-4495-4ced-b664-806528cfaa84",
   "metadata": {},
   "source": [
    "## Extracting Keypoints from Mediapipe output"
   ]
  },
  {
   "cell_type": "code",
   "execution_count": 7,
   "id": "092248be-82c4-46bf-8f8b-0e7cd553d496",
   "metadata": {},
   "outputs": [],
   "source": [
    "def extract_keypoints(results):\n",
    "    all_landmarks = []\n",
    "    if results.multi_hand_world_landmarks:\n",
    "        for hand_landmarks in results.multi_hand_world_landmarks:\n",
    "            for _, landmark in enumerate(hand_landmarks.landmark):\n",
    "                test = np.array([landmark.x, landmark.y, landmark.z])\n",
    "                all_landmarks.append(test)\n",
    "    else:\n",
    "        all_landmarks.append(np.zeros(21 * 3))    # Return array of shape (21,) with zeroes\n",
    "    all_landmarks = np.array(all_landmarks).flatten()\n",
    "    return all_landmarks"
   ]
  },
  {
   "cell_type": "code",
   "execution_count": 32,
   "id": "6515119f-1a53-455d-b878-6c2c23a5cda2",
   "metadata": {},
   "outputs": [
    {
     "data": {
      "text/plain": [
       "array([-0.03188626,  0.08063897, -0.01312534,  0.0064655 ,  0.0662742 ,\n",
       "       -0.01613111,  0.03590117,  0.04104966, -0.01226182,  0.05813647,\n",
       "        0.01183308, -0.00921023,  0.05867096, -0.01700037, -0.00477235,\n",
       "        0.02659452,  0.00316647,  0.0090667 ,  0.04010674, -0.00659361,\n",
       "       -0.01769856,  0.03818551,  0.00760557, -0.02270604,  0.02904305,\n",
       "        0.01832306, -0.00430081,  0.00260312, -0.00394715,  0.00725539,\n",
       "        0.01834306, -0.0179193 , -0.0281985 ,  0.01896388,  0.01029161,\n",
       "       -0.03747998,  0.00750468,  0.01345858, -0.00973626, -0.01968946,\n",
       "       -0.00460242, -0.00481195, -0.00340459, -0.01191723, -0.03401646,\n",
       "        0.00016375,  0.0122586 , -0.04314898, -0.00785952,  0.02235452,\n",
       "       -0.02049945, -0.03983998,  0.00471871, -0.01792581, -0.02849677,\n",
       "       -0.00354113, -0.03641857, -0.01968493,  0.01249862, -0.04668313,\n",
       "       -0.0286568 ,  0.02091947, -0.03463709])"
      ]
     },
     "execution_count": 32,
     "metadata": {},
     "output_type": "execute_result"
    }
   ],
   "source": [
    "extract_keypoints(results)"
   ]
  },
  {
   "cell_type": "markdown",
   "id": "2a870ade-ae7f-4db1-82ee-f750b2d81665",
   "metadata": {},
   "source": [
    "## Setup Directories"
   ]
  },
  {
   "cell_type": "code",
   "execution_count": 30,
   "id": "3655e0dd-69b0-4470-9eb4-843fe78261e3",
   "metadata": {},
   "outputs": [],
   "source": [
    "data_path = os.path.join('Data')\n",
    "letters = np.array(['a', 'b', 'c', 'd', 'e', 'f', 'g', 'h', 'i', 'k', 'l', 'm', 'n', 'o', 'p', 'q', 'r', 's', 't', 'u', 'v', 'w', 'x', 'y'])\n",
    "no_sequences = 25    # left hand = 25 && right hand = 25\n",
    "sequence_length = 10"
   ]
  },
  {
   "cell_type": "code",
   "execution_count": 31,
   "id": "f6466f98-32f8-46fd-94b9-12a78ae57c36",
   "metadata": {},
   "outputs": [],
   "source": [
    "for letter in letters:\n",
    "    for sequence in range(no_sequences):\n",
    "        try:\n",
    "            os.makedirs(os.path.join(data_path, letter, str(sequence)))\n",
    "        except:\n",
    "            pass"
   ]
  },
  {
   "cell_type": "markdown",
   "id": "300a5e70-10e4-49bb-92eb-7848bc009644",
   "metadata": {},
   "source": [
    "## Extract Data and store in directories"
   ]
  },
  {
   "cell_type": "code",
   "execution_count": 37,
   "id": "966393ec-c887-4e8e-a4ba-9f48e3d07937",
   "metadata": {},
   "outputs": [],
   "source": [
    "cap = cv2.VideoCapture(0)\n",
    "\n",
    "# Using the mediapipe hands model\n",
    "with mp_hands.Hands(min_detection_confidence=0.8, min_tracking_confidence=0.5, max_num_hands=1) as hands:\n",
    "    for letter in letters:\n",
    "        flag = True\n",
    "        for sequence in range(no_sequences):\n",
    "            for frame_number in range(-1, sequence_length):\n",
    "                \n",
    "                ret, frame = cap.read() # Get a frame from webcam stram\n",
    "\n",
    "                if frame_number == -1:\n",
    "                    while(flag):\n",
    "                        ret, frame = cap.read()\n",
    "                        cv2.putText(frame, 'START Collection for letter \\'{}\\', press S.'.format(letter), (120, 200), \n",
    "                                cv2.FONT_HERSHEY_COMPLEX, 1,(0, 255, 0), 1, cv2.LINE_AA)\n",
    "                        cv2.imshow('Frames Collection', frame)\n",
    "                        if cv2.waitKey(10) & 0xFF == ord('s'):\n",
    "                            flag = False\n",
    "                    continue\n",
    "                \n",
    "                # Detections\n",
    "                image, results = hand_detection(frame, hands)\n",
    "                draw_landmarks(image, results)\n",
    "     \n",
    "                cv2.putText(image, 'Collecting for letter \\'{}\\' video number {}'.format(letter, sequence), (120, 200), \n",
    "                            cv2.FONT_HERSHEY_COMPLEX, 1,(0, 255, 0), 1, cv2.LINE_AA)\n",
    "                cv2.imshow('Frames Collection', image)    # Frame after applying the mediapipe drawings\n",
    "\n",
    "                # Extracting and saving numPy arrays                \n",
    "                keypoints = extract_keypoints(results)\n",
    "                npy_path = os.path.join(data_path, letter, str(sequence), str(frame_number))\n",
    "                np.save(npy_path, keypoints)\n",
    "                    \n",
    "                if cv2.waitKey(10) & 0xFF == ord('q'):\n",
    "                    break\n",
    "\n",
    "cap.release()\n",
    "cv2.destroyAllWindows()"
   ]
  },
  {
   "cell_type": "markdown",
   "id": "d0f01fe3-5a08-4be8-9cf7-68a10b3fd588",
   "metadata": {},
   "source": [
    "## Pre-Processing data and Creating Labels"
   ]
  },
  {
   "cell_type": "code",
   "execution_count": 38,
   "id": "b423a063-8251-43ad-b17d-d45abd95371a",
   "metadata": {},
   "outputs": [],
   "source": [
    "from sklearn.model_selection import train_test_split\n",
    "from tensorflow.keras.utils import to_categorical"
   ]
  },
  {
   "cell_type": "code",
   "execution_count": 41,
   "id": "c712c5cb-ae61-4845-9b23-08457bf471d5",
   "metadata": {},
   "outputs": [],
   "source": [
    "label_map = {label: num for num, label in enumerate(letters)}"
   ]
  },
  {
   "cell_type": "code",
   "execution_count": 43,
   "id": "f524d9da-3ed1-477e-8534-db4c1d821e09",
   "metadata": {},
   "outputs": [],
   "source": [
    "sequences, labels = [], []\n",
    "for letter in letters:\n",
    "    for sequence in range(no_sequences):\n",
    "        window = []\n",
    "        for frame_number in range(sequence_length):\n",
    "            res = np.load(os.path.join(data_path, letter, str(sequence), \"{}.npy\".format(frame_number)))\n",
    "            window.append(res)\n",
    "        sequences.append(window)\n",
    "        labels.append(label_map[letter])"
   ]
  },
  {
   "cell_type": "code",
   "execution_count": 45,
   "id": "a00b639b-4510-4780-b5eb-1bb5fed9a523",
   "metadata": {},
   "outputs": [
    {
     "data": {
      "text/plain": [
       "(600, 10, 63)"
      ]
     },
     "execution_count": 45,
     "metadata": {},
     "output_type": "execute_result"
    }
   ],
   "source": [
    "np.array(sequences).shape    # (total_videos, frames_per_video, keypoints_per_frame)"
   ]
  },
  {
   "cell_type": "code",
   "execution_count": 50,
   "id": "be14a892-6f81-4073-a017-623fe3c44607",
   "metadata": {},
   "outputs": [],
   "source": [
    "X = np.array(sequences)"
   ]
  },
  {
   "cell_type": "code",
   "execution_count": 64,
   "id": "6799f18a-a72d-4795-ac13-be8220d8b9a6",
   "metadata": {},
   "outputs": [
    {
     "data": {
      "text/plain": [
       "(600, 10, 63)"
      ]
     },
     "execution_count": 64,
     "metadata": {},
     "output_type": "execute_result"
    }
   ],
   "source": [
    "X.shape    # (a, b, c) => (b, c) is input shape for LSTM layer"
   ]
  },
  {
   "cell_type": "code",
   "execution_count": 53,
   "id": "e4d3bea9-d78a-4982-b7ba-9d3019140cea",
   "metadata": {},
   "outputs": [],
   "source": [
    "y = to_categorical(labels).astype(int)"
   ]
  },
  {
   "cell_type": "code",
   "execution_count": 55,
   "id": "048e6392-90d3-449a-aa33-b4b41717a037",
   "metadata": {},
   "outputs": [],
   "source": [
    "X_train, X_test, y_train, y_test = train_test_split(X, y, test_size=0.05)"
   ]
  },
  {
   "cell_type": "markdown",
   "id": "e3a1a112-b41f-4d6a-a12e-5497506ea1f6",
   "metadata": {},
   "source": [
    "## Building and Training the model"
   ]
  },
  {
   "cell_type": "code",
   "execution_count": 61,
   "id": "76dadb2c-bd5a-4885-b148-14aefa312dca",
   "metadata": {},
   "outputs": [],
   "source": [
    "from tensorflow.keras.models import Sequential\n",
    "from tensorflow.keras.layers import LSTM, Dense\n",
    "from tensorflow.keras.callbacks import TensorBoard"
   ]
  },
  {
   "cell_type": "code",
   "execution_count": 62,
   "id": "bfa4c035-7f9f-4af0-ba90-59c651046bcd",
   "metadata": {},
   "outputs": [],
   "source": [
    "log_dir = os.path.join('Logs')\n",
    "tb_callback = TensorBoard(log_dir=log_dir)"
   ]
  },
  {
   "cell_type": "code",
   "execution_count": 66,
   "id": "5edee975-b33b-4d9f-9220-891b5c75f791",
   "metadata": {},
   "outputs": [],
   "source": [
    "model = Sequential()\n",
    "model.add(LSTM(64, return_sequences=True, activation='relu', input_shape=(10, 63)))\n",
    "model.add(LSTM(128, return_sequences=True, activation='relu'))\n",
    "model.add(LSTM(64, return_sequences=False, activation='relu'))\n",
    "model.add(Dense(64, activation='relu'))\n",
    "model.add(Dense(32, activation='relu'))\n",
    "model.add(Dense(letters.shape[0], activation='softmax'))"
   ]
  },
  {
   "cell_type": "code",
   "execution_count": 71,
   "id": "37e60a5f-399b-4337-9aac-c0085df7a362",
   "metadata": {},
   "outputs": [],
   "source": [
    "model.compile(optimizer='Adam', loss='categorical_crossentropy', metrics=['categorical_accuracy'])"
   ]
  },
  {
   "cell_type": "code",
   "execution_count": null,
   "id": "b7e91fd1-8d6c-4c7e-9c9f-f12b7b935aa6",
   "metadata": {},
   "outputs": [],
   "source": [
    "model.fit(X_train, y_train, epochs=2000, callbacks=[tb_callback])"
   ]
  },
  {
   "cell_type": "code",
   "execution_count": 73,
   "id": "6656d6c2-4b91-4650-999a-719262b2e96e",
   "metadata": {},
   "outputs": [
    {
     "name": "stdout",
     "output_type": "stream",
     "text": [
      "Model: \"sequential_1\"\n",
      "_________________________________________________________________\n",
      " Layer (type)                Output Shape              Param #   \n",
      "=================================================================\n",
      " lstm_3 (LSTM)               (None, 10, 64)            32768     \n",
      "                                                                 \n",
      " lstm_4 (LSTM)               (None, 10, 128)           98816     \n",
      "                                                                 \n",
      " lstm_5 (LSTM)               (None, 64)                49408     \n",
      "                                                                 \n",
      " dense_3 (Dense)             (None, 64)                4160      \n",
      "                                                                 \n",
      " dense_4 (Dense)             (None, 32)                2080      \n",
      "                                                                 \n",
      " dense_5 (Dense)             (None, 24)                792       \n",
      "                                                                 \n",
      "=================================================================\n",
      "Total params: 188024 (734.47 KB)\n",
      "Trainable params: 188024 (734.47 KB)\n",
      "Non-trainable params: 0 (0.00 Byte)\n",
      "_________________________________________________________________\n"
     ]
    }
   ],
   "source": [
    "model.summary()"
   ]
  },
  {
   "cell_type": "markdown",
   "id": "bfcea715-fe29-495d-acf6-c2da74eb553b",
   "metadata": {},
   "source": [
    "## Making Predictions and Saving Model"
   ]
  },
  {
   "cell_type": "code",
   "execution_count": 75,
   "id": "c0b5c3c2-e1ee-4321-aaab-f286b10fa04c",
   "metadata": {},
   "outputs": [
    {
     "name": "stdout",
     "output_type": "stream",
     "text": [
      "1/1 [==============================] - 0s 31ms/step\n"
     ]
    }
   ],
   "source": [
    "res = model.predict(X_test)"
   ]
  },
  {
   "cell_type": "code",
   "execution_count": null,
   "id": "087b4c56-2cb7-4577-9a70-37875c949b1c",
   "metadata": {},
   "outputs": [],
   "source": [
    "# Testing\n",
    "for i in range(30):\n",
    "    print(i, \":\")\n",
    "    print(letters[np.argmax(res[i])] == letters[np.argmax(y_test[i])])"
   ]
  },
  {
   "cell_type": "code",
   "execution_count": 90,
   "id": "3255465c-63a4-456c-906b-ef1753e83868",
   "metadata": {},
   "outputs": [],
   "source": [
    "model.save('asl.keras')"
   ]
  },
  {
   "cell_type": "markdown",
   "id": "c9b15865-5d2d-47d7-b35b-690934046ccb",
   "metadata": {},
   "source": [
    "## Testing the Model"
   ]
  },
  {
   "cell_type": "code",
   "execution_count": 93,
   "id": "fa46b3c9-c7c5-4df8-98e6-284967107287",
   "metadata": {},
   "outputs": [
    {
     "ename": "SyntaxError",
     "evalue": "unmatched ')' (310028508.py, line 32)",
     "output_type": "error",
     "traceback": [
      "\u001b[1;36m  Cell \u001b[1;32mIn[93], line 32\u001b[1;36m\u001b[0m\n\u001b[1;33m    cv2.FONT_HERSHEY_COMPLEX, 1, (0, 0, 0), 2), cv2.LINE_AA)\u001b[0m\n\u001b[1;37m                                                           ^\u001b[0m\n\u001b[1;31mSyntaxError\u001b[0m\u001b[1;31m:\u001b[0m unmatched ')'\n"
     ]
    }
   ],
   "source": [
    "sequence = []\n",
    "threshold = 0.7\n",
    "\n",
    "cap = cv2.VideoCapture(0)\n",
    "\n",
    "# Using the mediapipe hands model\n",
    "with mp_hands.Hands(min_detection_confidence=0.8, min_tracking_confidence=0.5, max_num_hands=1) as hands:\n",
    "    while cap.isOpened():\n",
    "        ret, frame = cap.read() # Get a frame from webcam stram\n",
    "\n",
    "        # Detections\n",
    "        image, results = hand_detection(frame, hands)\n",
    "        \n",
    "        # Draw Landmarks\n",
    "        draw_landmarks(image, results)\n",
    "\n",
    "        # Testing Logic\n",
    "        keypoints = extract_keypoints(results)\n",
    "        sequence.append(keypoints)\n",
    "        sequence = sequence[-10:]\n",
    "\n",
    "        if len(sequence) == 10:\n",
    "            res = model.predict(np.expand_dims(sequence, axis=0))[0]\n",
    "            print(letters[np.argmax(res)])\n",
    "\n",
    "        # Rendering result in OpenCV\n",
    "        if res[np.argmax(res)] > threshold:\n",
    "            letter = letters[np.argmax(res)]\n",
    "\n",
    "        cv2.rectangle(image, (0,0), (640, 40), (255, 255, 255), -1)\n",
    "        cv2.putText(image, ''.join(letter), (3, 30),\n",
    "                    cv2.FONT_HERSHEY_COMPLEX, 1, (0, 0, 0), 2, cv2.LINE_AA)\n",
    "        \n",
    "        cv2.imshow('Hand Tracking', image)    # Frame after applying the mediapipe drawings\n",
    "        \n",
    "        if cv2.waitKey(10) & 0xFF == ord('q'):\n",
    "            break\n",
    "\n",
    "cap.release()\n",
    "cv2.destroyAllWindows()"
   ]
  }
 ],
 "metadata": {
  "kernelspec": {
   "display_name": "Python 3 (ipykernel)",
   "language": "python",
   "name": "python3"
  },
  "language_info": {
   "codemirror_mode": {
    "name": "ipython",
    "version": 3
   },
   "file_extension": ".py",
   "mimetype": "text/x-python",
   "name": "python",
   "nbconvert_exporter": "python",
   "pygments_lexer": "ipython3",
   "version": "3.11.6"
  }
 },
 "nbformat": 4,
 "nbformat_minor": 5
}
